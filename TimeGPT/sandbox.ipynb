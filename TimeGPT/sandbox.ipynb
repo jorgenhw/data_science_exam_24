{
 "cells": [
  {
   "cell_type": "code",
   "execution_count": 2,
   "metadata": {},
   "outputs": [],
   "source": [
    "from nixtlats import NixtlaClient"
   ]
  },
  {
   "cell_type": "markdown",
   "metadata": {},
   "source": [
    "API key"
   ]
  },
  {
   "cell_type": "code",
   "execution_count": 5,
   "metadata": {},
   "outputs": [],
   "source": [
    "from dotenv import load_dotenv\n",
    "import os\n",
    "\n",
    "# Set the TimeGPT API key\n",
    "def set_api_key():\n",
    "    load_dotenv()\n",
    "    api_key = os.getenv(\"NIXTLATS_API_KEY\")\n",
    "    if api_key is None:\n",
    "        raise ValueError(\"Please set the NIXTLATS_API_KEY environment variable\")\n",
    "\n",
    "nixtla_client = NixtlaClient(\n",
    "    # defaults to os.environ.get(\"NIXTLA_API_KEY\")\n",
    "    api_key = set_api_key()\n",
    ")\n",
    "\n",
    "nixtla_client.validate_api_key()"
   ]
  },
  {
   "cell_type": "code",
   "execution_count": 15,
   "metadata": {},
   "outputs": [
    {
     "name": "stdout",
     "output_type": "stream",
     "text": [
      "           time     AMOC0     AMOC1     AMOC2        GM\n",
      "0     1870.0833  0.163951  0.255713  0.347475 -0.091762\n",
      "1     1870.1667  0.313431  0.473210  0.632988 -0.159778\n",
      "2     1870.2500  0.204185  0.278375  0.352565 -0.074190\n",
      "3     1870.3333  0.141020  0.269190  0.397360 -0.128170\n",
      "4     1870.4167  0.058445  0.276818  0.495190 -0.218373\n",
      "...         ...       ...       ...       ...       ...\n",
      "1807  2020.6667  0.353692 -0.055918 -0.465528  0.409610\n",
      "1808  2020.7500  0.327049 -0.035997 -0.399043  0.363046\n",
      "1809  2020.8333  0.254533 -0.053563 -0.361658  0.308095\n",
      "1810  2020.9167 -0.053814 -0.326855 -0.599895  0.273040\n",
      "1811  2021.0000 -0.091480 -0.318875 -0.546269  0.227395\n",
      "\n",
      "[1812 rows x 5 columns]\n"
     ]
    },
    {
     "name": "stderr",
     "output_type": "stream",
     "text": [
      "<>:6: SyntaxWarning: invalid escape sequence '\\s'\n",
      "<>:6: SyntaxWarning: invalid escape sequence '\\s'\n",
      "/var/folders/ll/fp10h_1j0d1ddcld2t3r_dpr0000gn/T/ipykernel_80404/1939062458.py:6: SyntaxWarning: invalid escape sequence '\\s'\n",
      "  df = pd.read_csv(path, sep=\"\\s+\", names=[\"time\", \"AMOC0\", \"AMOC1\", \"AMOC2\", \"GM\"], skiprows=1)\n"
     ]
    }
   ],
   "source": [
    "import pandas as pd\n",
    "import os\n",
    "\n",
    "# read txt file\n",
    "path = os.path.join('..','data','climate', 'AMOCdata.txt')\n",
    "df = pd.read_csv(path, sep=\"\\s+\", names=[\"time\", \"AMOC0\", \"AMOC1\", \"AMOC2\", \"GM\"], skiprows=1)\n",
    "print(df)"
   ]
  },
  {
   "cell_type": "code",
   "execution_count": 16,
   "metadata": {},
   "outputs": [
    {
     "data": {
      "text/html": [
       "<div>\n",
       "<style scoped>\n",
       "    .dataframe tbody tr th:only-of-type {\n",
       "        vertical-align: middle;\n",
       "    }\n",
       "\n",
       "    .dataframe tbody tr th {\n",
       "        vertical-align: top;\n",
       "    }\n",
       "\n",
       "    .dataframe thead th {\n",
       "        text-align: right;\n",
       "    }\n",
       "</style>\n",
       "<table border=\"1\" class=\"dataframe\">\n",
       "  <thead>\n",
       "    <tr style=\"text-align: right;\">\n",
       "      <th></th>\n",
       "      <th>timestamp</th>\n",
       "      <th>value</th>\n",
       "    </tr>\n",
       "  </thead>\n",
       "  <tbody>\n",
       "    <tr>\n",
       "      <th>0</th>\n",
       "      <td>1949-01-01</td>\n",
       "      <td>112</td>\n",
       "    </tr>\n",
       "    <tr>\n",
       "      <th>1</th>\n",
       "      <td>1949-02-01</td>\n",
       "      <td>118</td>\n",
       "    </tr>\n",
       "    <tr>\n",
       "      <th>2</th>\n",
       "      <td>1949-03-01</td>\n",
       "      <td>132</td>\n",
       "    </tr>\n",
       "    <tr>\n",
       "      <th>3</th>\n",
       "      <td>1949-04-01</td>\n",
       "      <td>129</td>\n",
       "    </tr>\n",
       "    <tr>\n",
       "      <th>4</th>\n",
       "      <td>1949-05-01</td>\n",
       "      <td>121</td>\n",
       "    </tr>\n",
       "  </tbody>\n",
       "</table>\n",
       "</div>"
      ],
      "text/plain": [
       "    timestamp  value\n",
       "0  1949-01-01    112\n",
       "1  1949-02-01    118\n",
       "2  1949-03-01    132\n",
       "3  1949-04-01    129\n",
       "4  1949-05-01    121"
      ]
     },
     "execution_count": 16,
     "metadata": {},
     "output_type": "execute_result"
    }
   ],
   "source": [
    "df = pd.read_csv('https://raw.githubusercontent.com/Nixtla/transfer-learning-time-series/main/datasets/air_passengers.csv')\n",
    "df.head()"
   ]
  },
  {
   "cell_type": "code",
   "execution_count": null,
   "metadata": {},
   "outputs": [],
   "source": [
    "nixtla_client.plot(df, time_col='timestamp', target_col='value')"
   ]
  },
  {
   "cell_type": "code",
   "execution_count": null,
   "metadata": {},
   "outputs": [],
   "source": []
  }
 ],
 "metadata": {
  "kernelspec": {
   "display_name": "venv_data_science_exam",
   "language": "python",
   "name": "python3"
  },
  "language_info": {
   "codemirror_mode": {
    "name": "ipython",
    "version": 3
   },
   "file_extension": ".py",
   "mimetype": "text/x-python",
   "name": "python",
   "nbconvert_exporter": "python",
   "pygments_lexer": "ipython3",
   "version": "3.12.2"
  }
 },
 "nbformat": 4,
 "nbformat_minor": 2
}

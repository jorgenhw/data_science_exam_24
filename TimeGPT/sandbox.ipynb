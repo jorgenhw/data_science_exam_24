{
 "cells": [
  {
   "cell_type": "code",
   "execution_count": 2,
   "metadata": {},
   "outputs": [],
   "source": [
    "from nixtlats import NixtlaClient"
   ]
  },
  {
   "cell_type": "markdown",
   "metadata": {},
   "source": [
    "API key"
   ]
  },
  {
   "cell_type": "code",
   "execution_count": 5,
   "metadata": {},
   "outputs": [],
   "source": [
    "from dotenv import load_dotenv\n",
    "import os\n",
    "\n",
    "# Set the TimeGPT API key\n",
    "def set_api_key():\n",
    "    load_dotenv()\n",
    "    api_key = os.getenv(\"NIXTLATS_API_KEY\")\n",
    "    if api_key is None:\n",
    "        raise ValueError(\"Please set the NIXTLATS_API_KEY environment variable\")\n",
    "\n",
    "nixtla_client = NixtlaClient(\n",
    "    # defaults to os.environ.get(\"NIXTLA_API_KEY\")\n",
    "    api_key = set_api_key()\n",
    ")\n",
    "\n",
    "nixtla_client.validate_api_key()"
   ]
  },
  {
   "cell_type": "code",
   "execution_count": 26,
   "metadata": {},
   "outputs": [
    {
     "name": "stderr",
     "output_type": "stream",
     "text": [
      "<>:6: SyntaxWarning: invalid escape sequence '\\s'\n",
      "<>:6: SyntaxWarning: invalid escape sequence '\\s'\n",
      "/var/folders/ll/fp10h_1j0d1ddcld2t3r_dpr0000gn/T/ipykernel_80404/303796156.py:6: SyntaxWarning: invalid escape sequence '\\s'\n",
      "  df = pd.read_csv(path, sep=\"\\s+\", names=[\"time\", \"AMOC0\", \"AMOC1\", \"AMOC2\", \"GM\"], skiprows=1)\n"
     ]
    }
   ],
   "source": [
    "import pandas as pd\n",
    "import os\n",
    "\n",
    "# read txt file\n",
    "path = os.path.join('..','data','climate', 'AMOCdata.txt')\n",
    "df = pd.read_csv(path, sep=\"\\s+\", names=[\"time\", \"AMOC0\", \"AMOC1\", \"AMOC2\", \"GM\"], skiprows=1)\n",
    "\n",
    "df['year'] = df['time'].apply(lambda x: int(x))\n",
    "df['fraction'] = df['time'].apply(lambda x: x - int(x))\n",
    "\n",
    "# Convert the fraction to datetime\n",
    "df['date'] = pd.to_datetime(df['year'], format='%Y') + pd.to_timedelta(df['fraction'] * 365, unit='d')\n",
    "\n",
    "# Drop the original 'time' column\n",
    "df = df.drop(columns=['year', 'fraction'])\n",
    "\n",
    "# remove clock time from date\n",
    "df['date'] = df['date'].dt.date\n",
    "\n",
    "# save the data as csv\n",
    "df.to_csv(os.path.join('..','data','climate', 'AMOCdata.csv'), index=False)"
   ]
  },
  {
   "cell_type": "code",
   "execution_count": 27,
   "metadata": {},
   "outputs": [
    {
     "data": {
      "text/html": [
       "<div>\n",
       "<style scoped>\n",
       "    .dataframe tbody tr th:only-of-type {\n",
       "        vertical-align: middle;\n",
       "    }\n",
       "\n",
       "    .dataframe tbody tr th {\n",
       "        vertical-align: top;\n",
       "    }\n",
       "\n",
       "    .dataframe thead th {\n",
       "        text-align: right;\n",
       "    }\n",
       "</style>\n",
       "<table border=\"1\" class=\"dataframe\">\n",
       "  <thead>\n",
       "    <tr style=\"text-align: right;\">\n",
       "      <th></th>\n",
       "      <th>time</th>\n",
       "      <th>AMOC0</th>\n",
       "      <th>AMOC1</th>\n",
       "      <th>AMOC2</th>\n",
       "      <th>GM</th>\n",
       "      <th>date</th>\n",
       "    </tr>\n",
       "  </thead>\n",
       "  <tbody>\n",
       "    <tr>\n",
       "      <th>0</th>\n",
       "      <td>1870.0833</td>\n",
       "      <td>0.163951</td>\n",
       "      <td>0.255713</td>\n",
       "      <td>0.347475</td>\n",
       "      <td>-0.091762</td>\n",
       "      <td>1870-01-31</td>\n",
       "    </tr>\n",
       "    <tr>\n",
       "      <th>1</th>\n",
       "      <td>1870.1667</td>\n",
       "      <td>0.313431</td>\n",
       "      <td>0.473210</td>\n",
       "      <td>0.632988</td>\n",
       "      <td>-0.159778</td>\n",
       "      <td>1870-03-02</td>\n",
       "    </tr>\n",
       "    <tr>\n",
       "      <th>2</th>\n",
       "      <td>1870.2500</td>\n",
       "      <td>0.204185</td>\n",
       "      <td>0.278375</td>\n",
       "      <td>0.352565</td>\n",
       "      <td>-0.074190</td>\n",
       "      <td>1870-04-02</td>\n",
       "    </tr>\n",
       "    <tr>\n",
       "      <th>3</th>\n",
       "      <td>1870.3333</td>\n",
       "      <td>0.141020</td>\n",
       "      <td>0.269190</td>\n",
       "      <td>0.397360</td>\n",
       "      <td>-0.128170</td>\n",
       "      <td>1870-05-02</td>\n",
       "    </tr>\n",
       "    <tr>\n",
       "      <th>4</th>\n",
       "      <td>1870.4167</td>\n",
       "      <td>0.058445</td>\n",
       "      <td>0.276818</td>\n",
       "      <td>0.495190</td>\n",
       "      <td>-0.218373</td>\n",
       "      <td>1870-06-02</td>\n",
       "    </tr>\n",
       "    <tr>\n",
       "      <th>...</th>\n",
       "      <td>...</td>\n",
       "      <td>...</td>\n",
       "      <td>...</td>\n",
       "      <td>...</td>\n",
       "      <td>...</td>\n",
       "      <td>...</td>\n",
       "    </tr>\n",
       "    <tr>\n",
       "      <th>1807</th>\n",
       "      <td>2020.6667</td>\n",
       "      <td>0.353692</td>\n",
       "      <td>-0.055918</td>\n",
       "      <td>-0.465528</td>\n",
       "      <td>0.409610</td>\n",
       "      <td>2020-08-31</td>\n",
       "    </tr>\n",
       "    <tr>\n",
       "      <th>1808</th>\n",
       "      <td>2020.7500</td>\n",
       "      <td>0.327049</td>\n",
       "      <td>-0.035997</td>\n",
       "      <td>-0.399043</td>\n",
       "      <td>0.363046</td>\n",
       "      <td>2020-09-30</td>\n",
       "    </tr>\n",
       "    <tr>\n",
       "      <th>1809</th>\n",
       "      <td>2020.8333</td>\n",
       "      <td>0.254533</td>\n",
       "      <td>-0.053563</td>\n",
       "      <td>-0.361658</td>\n",
       "      <td>0.308095</td>\n",
       "      <td>2020-10-31</td>\n",
       "    </tr>\n",
       "    <tr>\n",
       "      <th>1810</th>\n",
       "      <td>2020.9167</td>\n",
       "      <td>-0.053814</td>\n",
       "      <td>-0.326855</td>\n",
       "      <td>-0.599895</td>\n",
       "      <td>0.273040</td>\n",
       "      <td>2020-11-30</td>\n",
       "    </tr>\n",
       "    <tr>\n",
       "      <th>1811</th>\n",
       "      <td>2021.0000</td>\n",
       "      <td>-0.091480</td>\n",
       "      <td>-0.318875</td>\n",
       "      <td>-0.546269</td>\n",
       "      <td>0.227395</td>\n",
       "      <td>2021-01-01</td>\n",
       "    </tr>\n",
       "  </tbody>\n",
       "</table>\n",
       "<p>1812 rows × 6 columns</p>\n",
       "</div>"
      ],
      "text/plain": [
       "           time     AMOC0     AMOC1     AMOC2        GM        date\n",
       "0     1870.0833  0.163951  0.255713  0.347475 -0.091762  1870-01-31\n",
       "1     1870.1667  0.313431  0.473210  0.632988 -0.159778  1870-03-02\n",
       "2     1870.2500  0.204185  0.278375  0.352565 -0.074190  1870-04-02\n",
       "3     1870.3333  0.141020  0.269190  0.397360 -0.128170  1870-05-02\n",
       "4     1870.4167  0.058445  0.276818  0.495190 -0.218373  1870-06-02\n",
       "...         ...       ...       ...       ...       ...         ...\n",
       "1807  2020.6667  0.353692 -0.055918 -0.465528  0.409610  2020-08-31\n",
       "1808  2020.7500  0.327049 -0.035997 -0.399043  0.363046  2020-09-30\n",
       "1809  2020.8333  0.254533 -0.053563 -0.361658  0.308095  2020-10-31\n",
       "1810  2020.9167 -0.053814 -0.326855 -0.599895  0.273040  2020-11-30\n",
       "1811  2021.0000 -0.091480 -0.318875 -0.546269  0.227395  2021-01-01\n",
       "\n",
       "[1812 rows x 6 columns]"
      ]
     },
     "execution_count": 27,
     "metadata": {},
     "output_type": "execute_result"
    }
   ],
   "source": [
    "df"
   ]
  },
  {
   "cell_type": "code",
   "execution_count": 28,
   "metadata": {},
   "outputs": [
    {
     "name": "stderr",
     "output_type": "stream",
     "text": [
      "/Users/wibe/Desktop/CogSci/Data Science/data_science_exam_24/venv_data_science_exam/lib/python3.12/site-packages/utilsforecast/plotting.py:30: SyntaxWarning: invalid escape sequence '\\('\n",
      "  models_pat = r\"|\".join(models).replace(\"(\", \"\\(\").replace(\")\", \"\\)\")\n",
      "/Users/wibe/Desktop/CogSci/Data Science/data_science_exam_24/venv_data_science_exam/lib/python3.12/site-packages/utilsforecast/plotting.py:30: SyntaxWarning: invalid escape sequence '\\)'\n",
      "  models_pat = r\"|\".join(models).replace(\"(\", \"\\(\").replace(\")\", \"\\)\")\n"
     ]
    },
    {
     "ename": "ImportError",
     "evalue": "matplotlib is not installed. Please install it and try again.\nYou can find detailed instructions at https://matplotlib.org/stable/users/installing/index.html",
     "output_type": "error",
     "traceback": [
      "\u001b[0;31m---------------------------------------------------------------------------\u001b[0m",
      "\u001b[0;31mModuleNotFoundError\u001b[0m                       Traceback (most recent call last)",
      "File \u001b[0;32m~/Desktop/CogSci/Data Science/data_science_exam_24/venv_data_science_exam/lib/python3.12/site-packages/utilsforecast/plotting.py:11\u001b[0m\n\u001b[1;32m     10\u001b[0m \u001b[38;5;28;01mtry\u001b[39;00m:\n\u001b[0;32m---> 11\u001b[0m     \u001b[38;5;28;01mimport\u001b[39;00m \u001b[38;5;21;01mmatplotlib\u001b[39;00m \u001b[38;5;28;01mas\u001b[39;00m \u001b[38;5;21;01mmpl\u001b[39;00m\n\u001b[1;32m     12\u001b[0m     \u001b[38;5;28;01mimport\u001b[39;00m \u001b[38;5;21;01mmatplotlib\u001b[39;00m\u001b[38;5;21;01m.\u001b[39;00m\u001b[38;5;21;01mpyplot\u001b[39;00m \u001b[38;5;28;01mas\u001b[39;00m \u001b[38;5;21;01mplt\u001b[39;00m\n",
      "\u001b[0;31mModuleNotFoundError\u001b[0m: No module named 'matplotlib'",
      "\nDuring handling of the above exception, another exception occurred:\n",
      "\u001b[0;31mImportError\u001b[0m                               Traceback (most recent call last)",
      "Cell \u001b[0;32mIn[28], line 1\u001b[0m\n\u001b[0;32m----> 1\u001b[0m \u001b[43mnixtla_client\u001b[49m\u001b[38;5;241;43m.\u001b[39;49m\u001b[43mplot\u001b[49m\u001b[43m(\u001b[49m\u001b[43mdf\u001b[49m\u001b[43m,\u001b[49m\u001b[43m \u001b[49m\u001b[43mtime_col\u001b[49m\u001b[38;5;241;43m=\u001b[39;49m\u001b[38;5;124;43m'\u001b[39;49m\u001b[38;5;124;43mtime\u001b[39;49m\u001b[38;5;124;43m'\u001b[39;49m\u001b[43m,\u001b[49m\u001b[43m \u001b[49m\u001b[43mtarget_col\u001b[49m\u001b[38;5;241;43m=\u001b[39;49m\u001b[38;5;124;43m'\u001b[39;49m\u001b[38;5;124;43mAMOC0\u001b[39;49m\u001b[38;5;124;43m'\u001b[39;49m\u001b[43m)\u001b[49m\n",
      "File \u001b[0;32m~/Desktop/CogSci/Data Science/data_science_exam_24/venv_data_science_exam/lib/python3.12/site-packages/nixtlats/nixtla_client.py:1068\u001b[0m, in \u001b[0;36m_NixtlaClient.plot\u001b[0;34m(self, df, forecasts_df, id_col, time_col, target_col, unique_ids, plot_random, models, level, max_insample_length, plot_anomalies, engine, resampler_kwargs)\u001b[0m\n\u001b[1;32m   1022\u001b[0m \u001b[38;5;250m\u001b[39m\u001b[38;5;124;03m\"\"\"Plot forecasts and insample values.\u001b[39;00m\n\u001b[1;32m   1023\u001b[0m \n\u001b[1;32m   1024\u001b[0m \u001b[38;5;124;03mParameters\u001b[39;00m\n\u001b[0;32m   (...)\u001b[0m\n\u001b[1;32m   1065\u001b[0m \u001b[38;5;124;03m    its `show_dash` method.\u001b[39;00m\n\u001b[1;32m   1066\u001b[0m \u001b[38;5;124;03m\"\"\"\u001b[39;00m\n\u001b[1;32m   1067\u001b[0m \u001b[38;5;28;01mtry\u001b[39;00m:\n\u001b[0;32m-> 1068\u001b[0m     \u001b[38;5;28;01mfrom\u001b[39;00m \u001b[38;5;21;01mutilsforecast\u001b[39;00m\u001b[38;5;21;01m.\u001b[39;00m\u001b[38;5;21;01mplotting\u001b[39;00m \u001b[38;5;28;01mimport\u001b[39;00m plot_series\n\u001b[1;32m   1069\u001b[0m \u001b[38;5;28;01mexcept\u001b[39;00m \u001b[38;5;167;01mModuleNotFoundError\u001b[39;00m:\n\u001b[1;32m   1070\u001b[0m     \u001b[38;5;28;01mraise\u001b[39;00m \u001b[38;5;167;01mException\u001b[39;00m(\n\u001b[1;32m   1071\u001b[0m         \u001b[38;5;124m\"\u001b[39m\u001b[38;5;124mYou have to install additional dependencies to use this method, \u001b[39m\u001b[38;5;124m\"\u001b[39m\n\u001b[1;32m   1072\u001b[0m         \u001b[38;5;124m'\u001b[39m\u001b[38;5;124mplease install them using `pip install \u001b[39m\u001b[38;5;124m\"\u001b[39m\u001b[38;5;124mnixtlats[plotting]\u001b[39m\u001b[38;5;124m\"\u001b[39m\u001b[38;5;124m`\u001b[39m\u001b[38;5;124m'\u001b[39m\n\u001b[1;32m   1073\u001b[0m     )\n",
      "File \u001b[0;32m~/Desktop/CogSci/Data Science/data_science_exam_24/venv_data_science_exam/lib/python3.12/site-packages/utilsforecast/plotting.py:15\u001b[0m\n\u001b[1;32m     13\u001b[0m     \u001b[38;5;28;01mimport\u001b[39;00m \u001b[38;5;21;01mmatplotlib\u001b[39;00m\u001b[38;5;21;01m.\u001b[39;00m\u001b[38;5;21;01mcolors\u001b[39;00m \u001b[38;5;28;01mas\u001b[39;00m \u001b[38;5;21;01mcm\u001b[39;00m\n\u001b[1;32m     14\u001b[0m \u001b[38;5;28;01mexcept\u001b[39;00m \u001b[38;5;167;01mImportError\u001b[39;00m:\n\u001b[0;32m---> 15\u001b[0m     \u001b[38;5;28;01mraise\u001b[39;00m \u001b[38;5;167;01mImportError\u001b[39;00m(\n\u001b[1;32m     16\u001b[0m         \u001b[38;5;124m\"\u001b[39m\u001b[38;5;124mmatplotlib is not installed. Please install it and try again.\u001b[39m\u001b[38;5;130;01m\\n\u001b[39;00m\u001b[38;5;124m\"\u001b[39m\n\u001b[1;32m     17\u001b[0m         \u001b[38;5;124m\"\u001b[39m\u001b[38;5;124mYou can find detailed instructions at https://matplotlib.org/stable/users/installing/index.html\u001b[39m\u001b[38;5;124m\"\u001b[39m\n\u001b[1;32m     18\u001b[0m     )\n\u001b[1;32m     19\u001b[0m \u001b[38;5;28;01mimport\u001b[39;00m \u001b[38;5;21;01mnumpy\u001b[39;00m \u001b[38;5;28;01mas\u001b[39;00m \u001b[38;5;21;01mnp\u001b[39;00m\n\u001b[1;32m     20\u001b[0m \u001b[38;5;28;01mimport\u001b[39;00m \u001b[38;5;21;01mpandas\u001b[39;00m \u001b[38;5;28;01mas\u001b[39;00m \u001b[38;5;21;01mpd\u001b[39;00m\n",
      "\u001b[0;31mImportError\u001b[0m: matplotlib is not installed. Please install it and try again.\nYou can find detailed instructions at https://matplotlib.org/stable/users/installing/index.html"
     ]
    }
   ],
   "source": [
    "from mat\n",
    "\n",
    "nixtla_client.plot(df, time_col='time', target_col='AMOC0')"
   ]
  },
  {
   "cell_type": "code",
   "execution_count": null,
   "metadata": {},
   "outputs": [],
   "source": []
  }
 ],
 "metadata": {
  "kernelspec": {
   "display_name": "venv_data_science_exam",
   "language": "python",
   "name": "python3"
  },
  "language_info": {
   "codemirror_mode": {
    "name": "ipython",
    "version": 3
   },
   "file_extension": ".py",
   "mimetype": "text/x-python",
   "name": "python",
   "nbconvert_exporter": "python",
   "pygments_lexer": "ipython3",
   "version": "3.12.2"
  }
 },
 "nbformat": 4,
 "nbformat_minor": 2
}

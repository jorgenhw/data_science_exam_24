{
 "cells": [
  {
   "cell_type": "code",
   "execution_count": 1,
   "metadata": {},
   "outputs": [],
   "source": [
    "import pandas as pd\n",
    "import numpy as np\n",
    "import os\n",
    "\n",
    "path = os.path.join(\"AMOCdata.csv\")\n",
    "df = pd.read_csv(path)"
   ]
  },
  {
   "cell_type": "code",
   "execution_count": 3,
   "metadata": {},
   "outputs": [],
   "source": [
    "import pandas as pd\n",
    "\n",
    "train_small = df[:100]\n",
    "test_small = df[100:150]\n",
    "test_large_small = df[100:350]\n",
    "\n",
    "train_large = df[:1000]\n",
    "test_large = df[1000:1250]\n",
    "test_small_large = df[1000:1050]\n",
    "\n",
    "# save to csv\n",
    "train_small.to_csv('splits/train/train_small.csv', index=False)\n",
    "test_small.to_csv('splits/test/test_small_for_train_small.csv', index=False)\n",
    "test_large_small.to_csv('splits/test/test_large_for_train_small.csv', index=False)\n",
    "\n",
    "train_large.to_csv('splits/train/train_large.csv', index=False)\n",
    "test_large.to_csv('splits/test/test_large_for_train_large.csv', index=False)\n",
    "test_small_large.to_csv('splits/test/test_small_for_train_large.csv', index=False)"
   ]
  }
 ],
 "metadata": {
  "kernelspec": {
   "display_name": "venv_data_science_exam",
   "language": "python",
   "name": "python3"
  },
  "language_info": {
   "codemirror_mode": {
    "name": "ipython",
    "version": 3
   },
   "file_extension": ".py",
   "mimetype": "text/x-python",
   "name": "python",
   "nbconvert_exporter": "python",
   "pygments_lexer": "ipython3",
   "version": "3.12.3"
  }
 },
 "nbformat": 4,
 "nbformat_minor": 2
}

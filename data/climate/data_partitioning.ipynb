{
 "cells": [
  {
   "cell_type": "code",
   "execution_count": 1,
   "metadata": {},
   "outputs": [],
   "source": [
    "import pandas as pd\n",
    "import numpy as np\n",
    "import os\n",
    "\n",
    "path = os.path.join(\"AMOCdata.csv\")\n",
    "df = pd.read_csv(path)"
   ]
  },
  {
   "cell_type": "code",
   "execution_count": 2,
   "metadata": {},
   "outputs": [],
   "source": [
    "import pandas as pd\n",
    "\n",
    "train_small = df[:100]\n",
    "test_small = df[100:150]\n",
    "\n",
    "train_large = df[:1000]\n",
    "test_large = df[1000:1250]\n",
    "\n",
    "# save to csv\n",
    "train_small.to_csv('train_small.csv', index=False)\n",
    "test_small.to_csv('test_small.csv', index=False)\n",
    "\n",
    "train_large.to_csv('train_large.csv', index=False)\n",
    "test_large.to_csv('test_large.csv', index=False)"
   ]
  }
 ],
 "metadata": {
  "kernelspec": {
   "display_name": "venv_data_science_exam",
   "language": "python",
   "name": "python3"
  },
  "language_info": {
   "codemirror_mode": {
    "name": "ipython",
    "version": 3
   },
   "file_extension": ".py",
   "mimetype": "text/x-python",
   "name": "python",
   "nbconvert_exporter": "python",
   "pygments_lexer": "ipython3",
   "version": "3.12.2"
  }
 },
 "nbformat": 4,
 "nbformat_minor": 2
}

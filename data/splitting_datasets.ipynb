{
 "cells": [
  {
   "cell_type": "markdown",
   "metadata": {},
   "source": [
    "## Splitting AMOCdata"
   ]
  },
  {
   "cell_type": "code",
   "execution_count": 28,
   "metadata": {},
   "outputs": [
    {
     "name": "stdout",
     "output_type": "stream",
     "text": [
      "           time     AMOC0     AMOC1     AMOC2        GM        date\n",
      "1807  2020.6667  0.353692 -0.055918 -0.465528  0.409610  2020-08-31\n",
      "1808  2020.7500  0.327049 -0.035997 -0.399043  0.363046  2020-09-30\n",
      "1809  2020.8333  0.254533 -0.053563 -0.361658  0.308095  2020-10-31\n",
      "1810  2020.9167 -0.053814 -0.326855 -0.599895  0.273040  2020-11-30\n",
      "1811  2021.0000 -0.091480 -0.318875 -0.546269  0.227395  2021-01-01\n",
      "           time     AMOC0     AMOC1     AMOC2        GM        date\n",
      "1807  2020.6667  0.353692 -0.055918 -0.465528  0.409610  2020-08-31\n",
      "1808  2020.7500  0.327049 -0.035997 -0.399043  0.363046  2020-09-30\n",
      "1809  2020.8333  0.254533 -0.053563 -0.361658  0.308095  2020-10-31\n",
      "1810  2020.9167 -0.053814 -0.326855 -0.599895  0.273040  2020-11-30\n",
      "1811  2021.0000 -0.091480 -0.318875 -0.546269  0.227395  2021-01-01\n"
     ]
    }
   ],
   "source": [
    "import pandas as pd\n",
    "import os \n",
    "\n",
    "df = pd.read_csv(os.path.join('..','data','climate', 'AMOCdata.csv'))\n",
    "\n",
    "# split data into test, train and validation (80/10/10)\n",
    "import numpy as np\n",
    "from sklearn.model_selection import train_test_split\n",
    "\n",
    "train, val = train_test_split(df, test_size=0.2, shuffle=False)\n",
    "val, test = train_test_split(val, test_size=0.5, shuffle=False)\n",
    "\n",
    "# save data into train, test and val folders\n",
    "train.to_csv(os.path.join('climate','splits','train','train.csv'), index=False)\n",
    "test.to_csv(os.path.join('climate','splits','test','test.csv'), index=False)\n",
    "val.to_csv(os.path.join('climate','splits','val','val.csv'), index=False)\n",
    "\n",
    "print(df.tail())\n",
    "print(test.tail())"
   ]
  },
  {
   "cell_type": "markdown",
   "metadata": {},
   "source": [
    "### DMI data Februray -> march"
   ]
  },
  {
   "cell_type": "code",
   "execution_count": 13,
   "metadata": {},
   "outputs": [],
   "source": [
    "import pandas as pd\n",
    "import os\n",
    "\n",
    "hum_mar = pd.read_csv(os.path.join('weather','AarhusSydObservations', 'AarhusSyd_humidity_marts.csv'), delimiter=';')\n",
    "rain_mar = pd.read_csv(os.path.join('weather','AarhusSydObservations', 'AarhusSyd_nedbør_marts.csv'), delimiter=';')\n",
    "temp_mar = pd.read_csv(os.path.join('weather','AarhusSydObservations', 'AarhusSyd_temp_marts.csv'), delimiter=';')\n",
    "clouds_mar = pd.read_csv(os.path.join('weather','AarhusSydObservations', 'AarhusSyd_skyer_marts.csv'), delimiter=';')\n",
    "wind_mar = pd.read_csv(os.path.join('weather','AarhusSydObservations', 'AarhusSyd_wind_marts.csv'), delimiter=';')\n",
    "\n",
    "hum_apr = pd.read_csv(os.path.join('weather','AarhusSydObservations', 'AarhusSyd_humidity_april.csv'), delimiter=';')\n",
    "rain_apr = pd.read_csv(os.path.join('weather','AarhusSydObservations', 'AarhusSyd_nedbør_april.csv'), delimiter=';')\n",
    "temp_apr = pd.read_csv(os.path.join('weather','AarhusSydObservations', 'AarhusSyd_temp_april.csv'), delimiter=';')\n",
    "clouds_apr = pd.read_csv(os.path.join('weather','AarhusSydObservations', 'AarhusSyd_skyer_april.csv'), delimiter=';')\n",
    "wind_apr = pd.read_csv(os.path.join('weather','AarhusSydObservations', 'AarhusSyd_wind_april.csv'), delimiter=';')\n",
    "\n",
    "# combine all datasets into one dataset, keeping only the first row of DataTime\n",
    "weather_mar = pd.concat([hum_mar, rain_mar, temp_mar, clouds_mar, wind_mar], axis=1)\n",
    "weather_mar = weather_mar.loc[:,~weather_mar.columns.duplicated()]\n",
    "\n",
    "weather_apr = pd.concat([hum_apr, rain_apr, temp_apr, clouds_apr, wind_apr], axis=1)\n",
    "weather_apr = weather_apr.loc[:,~weather_apr.columns.duplicated()]\n",
    "\n",
    "# add the two months together in one dataset\n",
    "weather_apr_mar = pd.concat([weather_mar, weather_apr], axis=0)\n",
    "# to csv\n",
    "weather_apr_mar.to_csv(os.path.join('weather','weatherAarhusSyd_Marts_april.csv'), index=False)"
   ]
  },
  {
   "cell_type": "code",
   "execution_count": 17,
   "metadata": {},
   "outputs": [],
   "source": [
    "import pandas as pd\n",
    "import os \n",
    "\n",
    "df = pd.read_csv(os.path.join('weather','AarhusSydObservations','weatherAarhusSyd_Marts_april.csv'))\n",
    "\n",
    "# split data into test, train and validation (80/10/10)\n",
    "import numpy as np\n",
    "from sklearn.model_selection import train_test_split\n",
    "\n",
    "train, test = train_test_split(df, test_size=0.2)\n",
    "test, val = train_test_split(test, test_size=0.5)\n",
    "\n",
    "# save data into train, test and val folders\n",
    "train.to_csv(os.path.join('weather','AarhusSydObservations','splits','train','train.csv'), index=False)\n",
    "test.to_csv(os.path.join('weather','AarhusSydObservations','splits','test','test.csv'), index=False)\n",
    "val.to_csv(os.path.join('weather','AarhusSydObservations','splits','val','val.csv'), index=False)"
   ]
  }
 ],
 "metadata": {
  "kernelspec": {
   "display_name": "venv_data_science_exam",
   "language": "python",
   "name": "python3"
  },
  "language_info": {
   "codemirror_mode": {
    "name": "ipython",
    "version": 3
   },
   "file_extension": ".py",
   "mimetype": "text/x-python",
   "name": "python",
   "nbconvert_exporter": "python",
   "pygments_lexer": "ipython3",
   "version": "3.10.9"
  }
 },
 "nbformat": 4,
 "nbformat_minor": 2
}

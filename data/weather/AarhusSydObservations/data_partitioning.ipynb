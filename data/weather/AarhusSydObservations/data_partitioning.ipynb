{
 "cells": [
  {
   "cell_type": "code",
   "execution_count": 1,
   "metadata": {},
   "outputs": [],
   "source": [
    "import pandas as pd\n",
    "import numpy as np\n",
    "import os\n",
    "\n",
    "path = os.path.join(\"weatherAarhusSyd_Marts_april.csv\")\n",
    "df = pd.read_csv(path)"
   ]
  },
  {
   "cell_type": "code",
   "execution_count": 2,
   "metadata": {},
   "outputs": [],
   "source": [
    "import pandas as pd\n",
    "\n",
    "# Assuming 'df' is your pandas DataFrame with the time series data\n",
    "\n",
    "# Helper function to create partitions\n",
    "def create_partitions(dataframe, test_size, train_sizes):\n",
    "    partitions = {}\n",
    "    for train_size in train_sizes:\n",
    "        for test_end in test_size:\n",
    "            # Calculate the start index for train and test based on sizes\n",
    "            test_start = -test_end\n",
    "            train_start = test_start - train_size\n",
    "            # Create and name partitions\n",
    "            train_data = dataframe.iloc[train_start:test_start]\n",
    "            test_data = dataframe.iloc[test_start:]\n",
    "            part_name = f'Partition_test_{test_end}_train_{train_size}'\n",
    "            partitions[part_name] = {'train': train_data, 'test': test_data}\n",
    "    return partitions\n",
    "\n",
    "# Define the sizes for test and train partitions as per the requirements\n",
    "test_sizes = [12, 120, 360]\n",
    "train_sizes = [50, 250, 750]\n",
    "\n",
    "# Create the partitions\n",
    "all_partitions = create_partitions(df, test_sizes, train_sizes)\n",
    "\n",
    "# Now, 'all_partitions' is a dictionary where keys are partition names and values\n",
    "# are another dictionary with 'train' and 'test' DataFrame partitions.\n",
    "# Example usage:\n",
    "# To access a specific partition, you can do:\n",
    "# all_partitions['Partition_test_12_train_50']['train']\n",
    "# all_partitions['Partition_test_12_train_50']['test']\n",
    "# ...and likewise for other partitions\n",
    "\n",
    "# You can replace the 50, 250, and 750 in the train_sizes list with any other sizes you need,\n",
    "# and the create_partitions function will generate the partitions accordingly.\n",
    "\n",
    "# save all individual partitions to separate csv files\n",
    "for part_name, part_data in all_partitions.items():\n",
    "    part_data['train'].to_csv(f'{part_name}_train.csv', index=False)\n",
    "    part_data['test'].to_csv(f'{part_name}_test.csv', index=False)\n",
    "    \n"
   ]
  }
 ],
 "metadata": {
  "kernelspec": {
   "display_name": "venv_data_science_exam",
   "language": "python",
   "name": "python3"
  },
  "language_info": {
   "codemirror_mode": {
    "name": "ipython",
    "version": 3
   },
   "file_extension": ".py",
   "mimetype": "text/x-python",
   "name": "python",
   "nbconvert_exporter": "python",
   "pygments_lexer": "ipython3",
   "version": "3.12.2"
  }
 },
 "nbformat": 4,
 "nbformat_minor": 2
}
